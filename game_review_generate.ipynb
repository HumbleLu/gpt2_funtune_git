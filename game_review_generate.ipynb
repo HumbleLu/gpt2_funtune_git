{
 "cells": [
  {
   "cell_type": "code",
   "execution_count": 1,
   "id": "5e12c8d4-ce2c-41a7-9951-5cef77afc540",
   "metadata": {},
   "outputs": [
    {
     "name": "stderr",
     "output_type": "stream",
     "text": [
      "/usr/local/lib64/python3.9/site-packages/torch/cuda/__init__.py:611: UserWarning: Can't initialize NVML\n",
      "  warnings.warn(\"Can't initialize NVML\")\n"
     ]
    }
   ],
   "source": [
    "import torch\n",
    "from transformers import GPT2LMHeadModel,  GPT2Tokenizer, GPT2Config, GPT2LMHeadModel"
   ]
  },
  {
   "cell_type": "code",
   "execution_count": 2,
   "id": "b71bdb8b-7f5d-4e8e-bf36-2962eb6354cc",
   "metadata": {},
   "outputs": [],
   "source": [
    "device = torch.device('cuda' if torch.cuda.is_available() else 'cpu')"
   ]
  },
  {
   "cell_type": "code",
   "execution_count": 3,
   "id": "5eeb81ee-4ebd-49eb-900f-3fb01ab4ae87",
   "metadata": {},
   "outputs": [],
   "source": [
    "model_dir = 'gamereveiw_distillgpt2/'\n",
    "model = GPT2LMHeadModel.from_pretrained(model_dir)\n",
    "tokenizer = GPT2Tokenizer.from_pretrained(model_dir)\n",
    "model = model.to(device)"
   ]
  },
  {
   "cell_type": "code",
   "execution_count": 4,
   "id": "45e7c169-bb26-42e2-ad2d-7b67fc6f744f",
   "metadata": {},
   "outputs": [
    {
     "name": "stdout",
     "output_type": "stream",
     "text": [
      "0: [GAME]Pokemon Wildlife Hunt[SCORE]1[REVIEW]This game is pretty awesome! I love the way it blends humor and exploration together.  The biggest problem is it's so short, I had about 8 hours to complete it in the first 20 minutes! I really wish it had more content! I don't like that, but if you can find all of those hours on the website, there should be more to it!  I like the idea of the game! They have different creatures to fight, different creatures to fight, and the different types of enemies. The thing is, they can shoot you, so there should be more! It's fun to play.\n",
      "\n",
      "\n",
      "1: [GAME]Pokemon Wildlife Hunt[SCORE]1[REVIEW]Good game, would definitely recommend to play it for VR, it really needs more players like me to see this game in VR.\n",
      "\n",
      "\n",
      "2: [GAME]Pokemon Wildlife Hunt[SCORE]1[REVIEW]I had a lot of fun with this game and I really like the new Pokemon option. The graphics are pretty good and the sound track is really good. I like the game. I like how the game gives you different things to hunt. I think the game needs a lot of work, but I think this game needs a lot of work.\n",
      "\n",
      "\n",
      "3: [GAME]Pokemon Wildlife Hunt[SCORE]1[REVIEW]Great game, would definitely recommend. The sound effects are nice and the gameplay is fun, even if it was a mobile phone game. However, the game seems to have a bug that won't be fixed by the developer. There is only one way to fix the issue and I have yet to be able to play online, so I'll be waiting for that next one.\n",
      "\n",
      "\n",
      "4: [GAME]Pokemon Wildlife Hunt[SCORE]1[REVIEW] Early Access Review\n",
      "\n",
      "\n"
     ]
    }
   ],
   "source": [
    "# positive reviews\n",
    "prompt = \"<|startoftext|>[GAME]Pokemon Wildlife Hunt[SCORE]1[REVIEW]\"\n",
    "\n",
    "generated = torch.tensor(tokenizer.encode(prompt)).unsqueeze(0)\n",
    "generated = generated.to(device)\n",
    "\n",
    "sample_outputs = model.generate(generated, \n",
    "                                do_sample=True,   \n",
    "                                top_k = 15, \n",
    "                                max_length = 500,\n",
    "                                top_p = 0.9, \n",
    "                                num_return_sequences=5,\n",
    "                                pad_token_id=tokenizer.eos_token_id\n",
    "                                )\n",
    "\n",
    "for i, sample_output in enumerate(sample_outputs):\n",
    "  print(\"{}: {}\\n\\n\".format(i, tokenizer.decode(sample_output, skip_special_tokens=True)))"
   ]
  },
  {
   "cell_type": "code",
   "execution_count": 5,
   "id": "ef3d4dfa-01f0-4206-b443-6a3e7eed3244",
   "metadata": {},
   "outputs": [
    {
     "name": "stdout",
     "output_type": "stream",
     "text": [
      "0: [GAME]Dishonored[SCORE]1[REVIEW]A game that I will never forget.\n",
      "\n",
      "\n",
      "1: [GAME]DayZ[SCORE]1[REVIEW] Early Access Review\n",
      "\n",
      "\n",
      "2: [GAME]The Plan[SCORE]1[REVIEW]A short, simple game that's very simple. It's short, but is very very effective. The story is cute and there's not too much focus on the end. It's a short game and is short. I'd give it a 8.5/10.\n",
      "\n",
      "\n",
      "3: [GAME]Terraria[SCORE]1[REVIEW]Terraria is a very fun game. You can play for hours on end and just do what you want with your life. I don't know what to say about it, but it is a great game. There is a lot of content, and even more things. It's a lot more than you could expect. If you're a fan of the game, I recommend it. I highly recommend it.\n",
      "\n",
      "\n",
      "4: [GAME]DayZ[SCORE]-1[REVIEW] Early Access Review\n",
      "\n",
      "\n"
     ]
    }
   ],
   "source": [
    "# random reviews\n",
    "prompt = \"<|startoftext|>\"\n",
    "\n",
    "generated = torch.tensor(tokenizer.encode(prompt)).unsqueeze(0)\n",
    "generated = generated.to(device)\n",
    "\n",
    "sample_outputs = model.generate(generated, \n",
    "                                do_sample=True,   \n",
    "                                top_k = 15, \n",
    "                                max_length = 500,\n",
    "                                top_p = 0.9, \n",
    "                                num_return_sequences=5,\n",
    "                                pad_token_id=tokenizer.eos_token_id\n",
    "                                )\n",
    "\n",
    "for i, sample_output in enumerate(sample_outputs):\n",
    "  print(\"{}: {}\\n\\n\".format(i, tokenizer.decode(sample_output, skip_special_tokens=True)))"
   ]
  },
  {
   "cell_type": "code",
   "execution_count": 6,
   "id": "f329e870-bb69-4189-af7e-214944346cd1",
   "metadata": {},
   "outputs": [
    {
     "name": "stderr",
     "output_type": "stream",
     "text": [
      "Some weights of the model checkpoint at roberta-base-openai-detector were not used when initializing RobertaForSequenceClassification: ['roberta.pooler.dense.bias', 'roberta.pooler.dense.weight']\n",
      "- This IS expected if you are initializing RobertaForSequenceClassification from the checkpoint of a model trained on another task or with another architecture (e.g. initializing a BertForSequenceClassification model from a BertForPreTraining model).\n",
      "- This IS NOT expected if you are initializing RobertaForSequenceClassification from the checkpoint of a model that you expect to be exactly identical (initializing a BertForSequenceClassification model from a BertForSequenceClassification model).\n"
     ]
    }
   ],
   "source": [
    "# load openai detector\n",
    "from transformers import pipeline\n",
    "detect_text = pipeline(\"text-classification\", model=\"roberta-base-openai-detector\")"
   ]
  },
  {
   "cell_type": "code",
   "execution_count": 7,
   "id": "84e58b30-26f0-4b85-950f-d5ed83dd2439",
   "metadata": {},
   "outputs": [
    {
     "data": {
      "text/html": [
       "<div>\n",
       "<style scoped>\n",
       "    .dataframe tbody tr th:only-of-type {\n",
       "        vertical-align: middle;\n",
       "    }\n",
       "\n",
       "    .dataframe tbody tr th {\n",
       "        vertical-align: top;\n",
       "    }\n",
       "\n",
       "    .dataframe thead th {\n",
       "        text-align: right;\n",
       "    }\n",
       "</style>\n",
       "<table border=\"1\" class=\"dataframe\">\n",
       "  <thead>\n",
       "    <tr style=\"text-align: right;\">\n",
       "      <th></th>\n",
       "      <th>app_id</th>\n",
       "      <th>app_name</th>\n",
       "      <th>review_text</th>\n",
       "      <th>review_score</th>\n",
       "      <th>review_votes</th>\n",
       "    </tr>\n",
       "  </thead>\n",
       "  <tbody>\n",
       "    <tr>\n",
       "      <th>0</th>\n",
       "      <td>10</td>\n",
       "      <td>Counter-Strike</td>\n",
       "      <td>Ruined my life.</td>\n",
       "      <td>1</td>\n",
       "      <td>0</td>\n",
       "    </tr>\n",
       "    <tr>\n",
       "      <th>1</th>\n",
       "      <td>10</td>\n",
       "      <td>Counter-Strike</td>\n",
       "      <td>This will be more of a ''my experience with th...</td>\n",
       "      <td>1</td>\n",
       "      <td>1</td>\n",
       "    </tr>\n",
       "    <tr>\n",
       "      <th>2</th>\n",
       "      <td>10</td>\n",
       "      <td>Counter-Strike</td>\n",
       "      <td>This game saved my virginity.</td>\n",
       "      <td>1</td>\n",
       "      <td>0</td>\n",
       "    </tr>\n",
       "    <tr>\n",
       "      <th>3</th>\n",
       "      <td>10</td>\n",
       "      <td>Counter-Strike</td>\n",
       "      <td>• Do you like original games? • Do you like ga...</td>\n",
       "      <td>1</td>\n",
       "      <td>0</td>\n",
       "    </tr>\n",
       "    <tr>\n",
       "      <th>4</th>\n",
       "      <td>10</td>\n",
       "      <td>Counter-Strike</td>\n",
       "      <td>Easy to learn, hard to master.</td>\n",
       "      <td>1</td>\n",
       "      <td>1</td>\n",
       "    </tr>\n",
       "  </tbody>\n",
       "</table>\n",
       "</div>"
      ],
      "text/plain": [
       "   app_id        app_name                                        review_text  \\\n",
       "0      10  Counter-Strike                                    Ruined my life.   \n",
       "1      10  Counter-Strike  This will be more of a ''my experience with th...   \n",
       "2      10  Counter-Strike                      This game saved my virginity.   \n",
       "3      10  Counter-Strike  • Do you like original games? • Do you like ga...   \n",
       "4      10  Counter-Strike           Easy to learn, hard to master.             \n",
       "\n",
       "   review_score  review_votes  \n",
       "0             1             0  \n",
       "1             1             1  \n",
       "2             1             0  \n",
       "3             1             0  \n",
       "4             1             1  "
      ]
     },
     "execution_count": 7,
     "metadata": {},
     "output_type": "execute_result"
    }
   ],
   "source": [
    "import pandas as pd\n",
    "df_reviews = pd.read_csv('dataset.csv')\n",
    "df_reviews.head()"
   ]
  },
  {
   "cell_type": "code",
   "execution_count": 8,
   "id": "7308dc63-5dff-41e0-bebc-cb1a91344685",
   "metadata": {},
   "outputs": [
    {
     "data": {
      "text/plain": [
       "\"This will be more of a ''my experience with this game'' type of review, because saying things like ''great gameplay'' will not suit something I've experienced with Counter-Strike. Here you go:  I remember back in 2002 I was at a friend's house and he was playing a game. I didn't know the name of the game nor I had internet to find it. A few weeks passed by and another friend came over. He didn't have a computer, so he brought a disc with a game in it. He told me that it was one of the best games and from that very moment I knew that it is going to be the game I saw at the other friend's house. When I saw the Counter-Strike logo I was filled with gamegasm (?) and I was so happy. I was playing it hardcore. Made friends, clans, was involved in communities and even made two myself. Counter-Strike is my first game which I played competitively and it was a such an experience. Playing public servers with mods were very fun, but playing it competitively made it very intense and stressful. In a pleasant way, ofcourse. Looking at the current e-sport scene it might not seem like much but back then it was different.  Shooters these days try to be different, advanced in a way. Sometimes the most simple games like Counter-Strike are the ones that live to this day. Also, there are plenty of mods to keep your attention to this game. The gameplay is very simple - defend as a Counter-Terrorist, attack as a Terrorist to plant the bomb or save the hostages as a CT. I am sure most of you already know this and I doubt there are gamers that haven't heard or know the gameplay of Counter-Strike, so I am sharing here more of my experience.  I wish I could find my CS Anthology account which I've lost since 2008. So, I decided I am going to buy this game again and here you go - more than a thousand hours played. I still play it from time to time to this day and it brings back many great memories and I sometimes even stumble upon people I've played with years ago. I think Counter-Strike changed gaming in a major way and we wouldn't have many games like we have today, if this game wouldn't exist.   I am sure many of people already have played games like CS:GO but never the roots. I doubt any of you will play it for more than an hour, because it's much more simple and it differs a lot in my opinion from CS:GO and modern games. It's harder though.\""
      ]
     },
     "execution_count": 8,
     "metadata": {},
     "output_type": "execute_result"
    }
   ],
   "source": [
    "df_reviews.loc[1, 'review_text']"
   ]
  },
  {
   "cell_type": "code",
   "execution_count": 9,
   "id": "47f7c7bb-9c8e-4614-ad15-2a9c597e0773",
   "metadata": {},
   "outputs": [
    {
     "name": "stdout",
     "output_type": "stream",
     "text": [
      "Ruined my life.\n",
      "[{'label': 'Real', 'score': 0.5562800168991089}]\n"
     ]
    }
   ],
   "source": [
    "i = 0\n",
    "print(df_reviews.loc[i, 'review_text'])\n",
    "print(detect_text(df_reviews.loc[i, 'review_text']))"
   ]
  },
  {
   "cell_type": "code",
   "execution_count": 10,
   "id": "9b7fa531-d3d0-449a-bd1d-bbd2c2a7b5b5",
   "metadata": {},
   "outputs": [
    {
     "name": "stdout",
     "output_type": "stream",
     "text": [
      "Counter-Strike: Ok, after 9 years of unlimited fun with friends, I have finally quit counter strike. Counter strike, in all of its versions, its just a great FPS game that anyone can enjoy it. Its a great game and all, you just cant stop playing it, you can just sit and play with your friends for days with out stoping. The huge weaoponary option you can choose and the smooth and sound of the game, its just f*cking addicting. With this games I've met so many different people and unique friends. This game is literally G(OLD). To all the young players who are looking for a good cheep and fun game to play with their friends, I highlly recommend on this. I've got (with steam record) 2,484hrs record in counter strike IN TOTTAL,,, and who knows how many more hrs in a non official steam version of this game.... Great Game. GG WP. And too all the people who will keep playing this game, all I can say, as always, GL &amp; HF &lt;3\n",
      "[{'label': 'Real', 'score': 0.9998098015785217}]\n"
     ]
    }
   ],
   "source": [
    "i = 8\n",
    "print(df_reviews.loc[i, 'review_text'])\n",
    "print(detect_text(df_reviews.loc[i, 'review_text']))"
   ]
  },
  {
   "cell_type": "code",
   "execution_count": 11,
   "id": "eeb34863-8d2d-45ec-a503-307feb53c2fb",
   "metadata": {},
   "outputs": [],
   "source": [
    "# negative reviews\n",
    "prompt = \"<|startoftext|>[GAME]Pokemon Wildlife Hunt[SCORE]-1[REVIEW]\"\n",
    "\n",
    "generated = torch.tensor(tokenizer.encode(prompt)).unsqueeze(0)\n",
    "generated = generated.to(device)\n",
    "\n",
    "sample_outputs = model.generate(generated, \n",
    "                                do_sample=True,   \n",
    "                                top_k = 10, \n",
    "                                max_length = 500,\n",
    "                                top_p = 0.9, \n",
    "                                num_return_sequences=5,\n",
    "                                pad_token_id=tokenizer.eos_token_id\n",
    "                                )"
   ]
  },
  {
   "cell_type": "code",
   "execution_count": 12,
   "id": "ed117e88-ea5e-45e0-b5e6-6af8139a080d",
   "metadata": {},
   "outputs": [],
   "source": [
    "sample_texts = [tokenizer.decode(sample_output, skip_special_tokens=True) for sample_output in sample_outputs]"
   ]
  },
  {
   "cell_type": "code",
   "execution_count": 13,
   "id": "ea7c7ffb-e7ab-4b3f-ab7e-aa7fa3270ce5",
   "metadata": {},
   "outputs": [
    {
     "name": "stdout",
     "output_type": "stream",
     "text": [
      "[GAME]Pokemon Wildlife Hunt[SCORE]-1[REVIEW]     YouTube™ Video:  Jurassic Park Story - KR-46&nbsp;\n",
      "{'label': 'Fake', 'score': 0.6107867956161499}\n",
      "\n",
      "\n",
      "[GAME]Pokemon Wildlife Hunt[SCORE]-1[REVIEW]          YouTube™ Video:  PokemonTested Planet X &amp; PS3 - Karatanas&nbsp;\n",
      "{'label': 'Real', 'score': 0.753854513168335}\n",
      "\n",
      "\n",
      "[GAME]Pokemon Wildlife Hunt[SCORE]-1[REVIEW]This game is a complete waste of time and money. The game looks great and the developers are very responsive, and the developers are responsive. However, if you are looking for a game to relax and work your way up the list of problems, this isn't the game for you.\n",
      "{'label': 'Fake', 'score': 0.9998102784156799}\n",
      "\n",
      "\n",
      "[GAME]Pokemon Wildlife Hunt[SCORE]-1[REVIEW]The game itself is quite interesting, it's not a game at all. The story is a bit lacking and the gameplay is very repetitive. It's a cute game that is just not worth $30.\n",
      "{'label': 'Fake', 'score': 0.9978112578392029}\n",
      "\n",
      "\n",
      "[GAME]Pokemon Wildlife Hunt[SCORE]-1[REVIEW] Early Access Review\n",
      "{'label': 'Real', 'score': 0.7129316926002502}\n",
      "\n",
      "\n"
     ]
    }
   ],
   "source": [
    "for i in range(len(sample_texts)):\n",
    "    print(sample_texts[i])\n",
    "    print(detect_text(sample_texts[i])[0])\n",
    "    print('\\n')"
   ]
  }
 ],
 "metadata": {
  "kernelspec": {
   "display_name": "Python 3 (ipykernel)",
   "language": "python",
   "name": "python3"
  },
  "language_info": {
   "codemirror_mode": {
    "name": "ipython",
    "version": 3
   },
   "file_extension": ".py",
   "mimetype": "text/x-python",
   "name": "python",
   "nbconvert_exporter": "python",
   "pygments_lexer": "ipython3",
   "version": "3.9.16"
  }
 },
 "nbformat": 4,
 "nbformat_minor": 5
}
